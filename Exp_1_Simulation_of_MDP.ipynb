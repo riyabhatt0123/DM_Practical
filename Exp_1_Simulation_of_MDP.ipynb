{
  "nbformat": 4,
  "nbformat_minor": 0,
  "metadata": {
    "colab": {
      "provenance": []
    },
    "kernelspec": {
      "name": "python3",
      "display_name": "Python 3"
    },
    "language_info": {
      "name": "python"
    }
  },
  "cells": [
    {
      "cell_type": "code",
      "source": [
        "!pip install pymdptoolbox"
      ],
      "metadata": {
        "colab": {
          "base_uri": "https://localhost:8080/"
        },
        "id": "ymCCwqroMT6b",
        "outputId": "3089acee-2362-489c-fc3e-7621ce02ddfa"
      },
      "execution_count": 2,
      "outputs": [
        {
          "output_type": "stream",
          "name": "stdout",
          "text": [
            "Collecting pymdptoolbox\n",
            "  Downloading pymdptoolbox-4.0-b3.zip (29 kB)\n",
            "  Preparing metadata (setup.py) ... \u001b[?25l\u001b[?25hdone\n",
            "Requirement already satisfied: numpy in /usr/local/lib/python3.10/dist-packages (from pymdptoolbox) (1.25.2)\n",
            "Requirement already satisfied: scipy in /usr/local/lib/python3.10/dist-packages (from pymdptoolbox) (1.11.4)\n",
            "Building wheels for collected packages: pymdptoolbox\n",
            "  Building wheel for pymdptoolbox (setup.py) ... \u001b[?25l\u001b[?25hdone\n",
            "  Created wheel for pymdptoolbox: filename=pymdptoolbox-4.0b3-py3-none-any.whl size=25656 sha256=2efb3ea486a863de109e206906804ebc6a5585320011fb736d4fdba4f3db85d9\n",
            "  Stored in directory: /root/.cache/pip/wheels/2b/e7/c7/d7abf9e309f3573a934fed2750c70bd75d9e9d901f7f16e183\n",
            "Successfully built pymdptoolbox\n",
            "Installing collected packages: pymdptoolbox\n",
            "Successfully installed pymdptoolbox-4.0b3\n"
          ]
        }
      ]
    },
    {
      "cell_type": "code",
      "execution_count": 3,
      "metadata": {
        "colab": {
          "base_uri": "https://localhost:8080/"
        },
        "id": "39tMTMMyL-JS",
        "outputId": "822752c3-8d28-42a1-f81d-82efe9683f22"
      },
      "outputs": [
        {
          "output_type": "stream",
          "name": "stdout",
          "text": [
            "Optimal Policy:\n",
            "(0, 0, 0)\n",
            "Optimal Policy:\n",
            "(0, 0, 0)\n"
          ]
        }
      ],
      "source": [
        "import mdptoolbox.example\n",
        "import mdptoolbox.mdp\n",
        "import numpy as np\n",
        "# Define the grid-world environment\n",
        "P, R = mdptoolbox.example.forest()\n",
        "# Create an MDP object using Value Iteration algorithm\n",
        "vi = mdptoolbox.mdp.ValueIteration(P, R, 0.9)\n",
        "vi.run()\n",
        "# Display the policy\n",
        "print(\"Optimal Policy:\")\n",
        "print(vi.policy)\n",
        "# Create an MDP object using Policy Iteration algorithm\n",
        "pi = mdptoolbox.mdp.PolicyIteration(P, R, 0.9)\n",
        "pi.run()\n",
        "# Display the policy\n",
        "print(\"Optimal Policy:\")\n",
        "print(pi.policy)\n"
      ]
    },
    {
      "cell_type": "code",
      "source": [],
      "metadata": {
        "id": "zlh3z0qxML4t"
      },
      "execution_count": null,
      "outputs": []
    }
  ]
}
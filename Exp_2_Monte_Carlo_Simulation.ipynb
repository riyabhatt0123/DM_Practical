{
  "nbformat": 4,
  "nbformat_minor": 0,
  "metadata": {
    "colab": {
      "provenance": []
    },
    "kernelspec": {
      "name": "python3",
      "display_name": "Python 3"
    },
    "language_info": {
      "name": "python"
    }
  },
  "cells": [
    {
      "cell_type": "code",
      "execution_count": 4,
      "metadata": {
        "colab": {
          "base_uri": "https://localhost:8080/"
        },
        "id": "iX_3n-zUOWxD",
        "outputId": "2c616c6f-cd8a-4af6-b304-382639c3aa92"
      },
      "outputs": [
        {
          "output_type": "stream",
          "name": "stdout",
          "text": [
            "30.0\n",
            "18.0\n",
            "21.7\n",
            "21.83\n",
            "21.787\n",
            "21.7274\n"
          ]
        }
      ],
      "source": [
        "''' Q1. What is the probability that at least 2 Kings will appear\n",
        "    next to each other in the shuffled deck? '''\n",
        "\n",
        "import numpy as np\n",
        "import random\n",
        "import copy\n",
        "\n",
        "org_deck = [\n",
        "'AS', '2S', '3S', '4S', '5S', '6S', '7S', '8S', '9S', '10S', 'JS', 'QS', 'KS',\n",
        "'AD', '2D', '3D', '4D', '5D', '6D', '7D', '8D', '9D', '10D', 'JD', 'QD', 'KD',\n",
        "'AC', '2C', '3C', '4C', '5C', '6C', '7C', '8C', '9C', '10C', 'JC', 'QC', 'KC',\n",
        "'AH', '2H', '3H', '4H', '5H', '6H', '7H', '8H', '9H', '10H', 'JH', 'QH', 'KH',\n",
        "]\n",
        "\n",
        "def KingKing(deck):\n",
        "    for i in range(len(deck)-1):\n",
        "        if deck[i][0] == 'K' and deck[i+1][0] == 'K':\n",
        "            return True\n",
        "\n",
        "\n",
        "def MonteCarlo1(n):\n",
        "    res = 0\n",
        "    for _ in range(n):\n",
        "        deck = copy.deepcopy(org_deck)\n",
        "        random.shuffle(deck)\n",
        "        if KingKing(deck): res += 1\n",
        "    print(res*100/n)\n",
        "\n",
        "for i in range(1, 7):\n",
        "    MonteCarlo1(10**i)\n"
      ]
    },
    {
      "cell_type": "code",
      "source": [],
      "metadata": {
        "id": "7VIsMn0cOty2"
      },
      "execution_count": null,
      "outputs": []
    }
  ]
}
{
  "nbformat": 4,
  "nbformat_minor": 0,
  "metadata": {
    "colab": {
      "provenance": []
    },
    "kernelspec": {
      "name": "python3",
      "display_name": "Python 3"
    },
    "language_info": {
      "name": "python"
    }
  },
  "cells": [
    {
      "cell_type": "code",
      "execution_count": 1,
      "metadata": {
        "colab": {
          "base_uri": "https://localhost:8080/"
        },
        "id": "w6d7BjC3c_1F",
        "outputId": "831185fb-9fab-42b8-995d-56aca3d5d8c9"
      },
      "outputs": [
        {
          "output_type": "stream",
          "name": "stderr",
          "text": [
            "/usr/local/lib/python3.10/dist-packages/gym/core.py:317: DeprecationWarning: \u001b[33mWARN: Initializing wrapper in old step API which returns one bool instead of two. It is recommended to set `new_step_api=True` to use new step API. This will be the default behaviour in future.\u001b[0m\n",
            "  deprecation(\n",
            "/usr/local/lib/python3.10/dist-packages/gym/wrappers/step_api_compatibility.py:39: DeprecationWarning: \u001b[33mWARN: Initializing environment in old step API which returns one bool instead of two. It is recommended to set `new_step_api=True` to use new step API. This will be the default behaviour in future.\u001b[0m\n",
            "  deprecation(\n",
            "/usr/local/lib/python3.10/dist-packages/gym/utils/passive_env_checker.py:241: DeprecationWarning: `np.bool8` is a deprecated alias for `np.bool_`.  (Deprecated NumPy 1.24)\n",
            "  if not isinstance(terminated, (bool, np.bool8)):\n"
          ]
        },
        {
          "output_type": "stream",
          "name": "stdout",
          "text": [
            "Learned Q-values:\n",
            "[[0. 0. 0. 0.]\n",
            " [0. 0. 0. 0.]\n",
            " [0. 0. 0. 0.]\n",
            " [0. 0. 0. 0.]\n",
            " [0. 0. 0. 0.]\n",
            " [0. 0. 0. 0.]\n",
            " [0. 0. 0. 0.]\n",
            " [0. 0. 0. 0.]\n",
            " [0. 0. 0. 0.]\n",
            " [0. 0. 0. 0.]\n",
            " [0. 0. 0. 0.]\n",
            " [0. 0. 0. 0.]\n",
            " [0. 0. 0. 0.]\n",
            " [0. 0. 0. 0.]\n",
            " [0. 0. 0. 0.]\n",
            " [0. 0. 0. 0.]]\n"
          ]
        }
      ],
      "source": [
        "import gym\n",
        "import numpy as np\n",
        "def choose_action(state, Q, epsilon, action_space):\n",
        "    if np.random.uniform(0, 1) < epsilon:\n",
        "        return action_space.sample()\n",
        "    else:\n",
        "        return np.argmax(Q[state, :])\n",
        "def sarsa(env, num_episodes, alpha, gamma, epsilon):\n",
        "    # Initialize Q table with zeros\n",
        "    Q = np.zeros((env.observation_space.n, env.action_space.n))\n",
        "    for episode in range(num_episodes):\n",
        "        state = env.reset()\n",
        "        action = choose_action(state, Q, epsilon, env.action_space)\n",
        "\n",
        "        while True:\n",
        "            next_state, reward, done, _ = env.step(action)\n",
        "            next_action = choose_action(next_state, Q, epsilon, env.action_space)\n",
        "            Q[state, action] = Q[state, action] + alpha * (\n",
        "                reward + gamma * Q[next_state, next_action] - Q[state, action]\n",
        "            )\n",
        "            state, action = next_state, next_action\n",
        "            if done:\n",
        "                break\n",
        "    return Q\n",
        "# Main code\n",
        "env = gym.make('FrozenLake-v1', is_slippery=False)\n",
        "num_episodes = 1000\n",
        "alpha = 0.1\n",
        "gamma = 0.99\n",
        "epsilon = 0.1\n",
        "Q = sarsa(env, num_episodes, alpha, gamma, epsilon)\n",
        "print(\"Learned Q-values:\")\n",
        "print(Q)\n"
      ]
    },
    {
      "cell_type": "code",
      "source": [],
      "metadata": {
        "id": "8x1e9ClbdLzc"
      },
      "execution_count": null,
      "outputs": []
    }
  ]
}
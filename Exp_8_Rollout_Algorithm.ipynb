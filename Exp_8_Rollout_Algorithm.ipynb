{
  "nbformat": 4,
  "nbformat_minor": 0,
  "metadata": {
    "colab": {
      "provenance": []
    },
    "kernelspec": {
      "name": "python3",
      "display_name": "Python 3"
    },
    "language_info": {
      "name": "python"
    }
  },
  "cells": [
    {
      "cell_type": "code",
      "execution_count": 1,
      "metadata": {
        "colab": {
          "base_uri": "https://localhost:8080/"
        },
        "id": "ConWi-NYdaDh",
        "outputId": "3b3796ee-ed67-4bc1-adcc-a3c0686fcd40"
      },
      "outputs": [
        {
          "output_type": "stream",
          "name": "stdout",
          "text": [
            "Initial State: 0\n",
            "Action Values: [   0.  -248.6]\n",
            "Best Action: 0\n"
          ]
        }
      ],
      "source": [
        "import numpy as np\n",
        "# Define a simple environment\n",
        "class SimpleEnvironment:\n",
        "    def __init__(self):\n",
        "        self.state = 0\n",
        "    def reset(self):\n",
        "        self.state = 0\n",
        "        return self.state\n",
        "\n",
        "    def step(self, action):\n",
        "        if action == 0:  # Move left\n",
        "            self.state -= 1\n",
        "        elif action == 1:  # Move right\n",
        "            self.state += 1\n",
        "\n",
        "        reward = -abs(self.state)  # Reward is the negative distance from origin\n",
        "        done = abs(self.state) >= 10  # Episode ends if state is >= 10 or <= -10\n",
        "\n",
        "        return self.state, reward, done, {}\n",
        "\n",
        "# Define a base policy\n",
        "def base_policy(state):\n",
        "    return np.random.choice([0, 1])  # Randomly choose an action\n",
        "\n",
        "# Rollout algorithm\n",
        "def rollout_algorithm(env, state, num_rollouts=10):\n",
        "    action_values = np.zeros(2)  # Two possible actions: 0 (left) and 1 (right)\n",
        "\n",
        "    for action in [0, 1]:\n",
        "        total_reward = 0\n",
        "        for _ in range(num_rollouts):\n",
        "            env.reset()\n",
        "            env.state = state\n",
        "            current_state, reward, done, _ = env.step(action)\n",
        "            total_reward += reward\n",
        "\n",
        "            while not done:\n",
        "                action = base_policy(current_state)\n",
        "                current_state, reward, done, _ = env.step(action)\n",
        "                total_reward += reward\n",
        "\n",
        "        action_values[action] = total_reward / num_rollouts\n",
        "\n",
        "    best_action = np.argmax(action_values)\n",
        "    return best_action, action_values\n",
        "\n",
        "# Main function to demonstrate the rollout algorithm\n",
        "def main():\n",
        "    env = SimpleEnvironment()\n",
        "    initial_state = env.reset()\n",
        "    best_action, action_values = rollout_algorithm(env, initial_state)\n",
        "\n",
        "    print(f\"Initial State: {initial_state}\")\n",
        "    print(f\"Action Values: {action_values}\")\n",
        "    print(f\"Best Action: {best_action}\")\n",
        "\n",
        "if __name__ == \"__main__\":\n",
        "    main()\n"
      ]
    },
    {
      "cell_type": "code",
      "source": [],
      "metadata": {
        "id": "RIP-GblGdmJ9"
      },
      "execution_count": null,
      "outputs": []
    }
  ]
}